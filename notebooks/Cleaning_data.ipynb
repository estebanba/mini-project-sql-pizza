{
 "cells": [
  {
   "cell_type": "code",
   "execution_count": null,
   "id": "6399bc79-d934-401d-b2b3-b7ba13e48b64",
   "metadata": {},
   "outputs": [],
   "source": [
    "import pandas as pd\n",
    "import numpy as np\n",
    "import re\n",
    "import seaborn as sns\n",
    "pizza_sales=pd.read_csv(\"../data/raw/pizza_sales.csv\")\n",
    "\n",
    "pizza_sales.head(1)\n"
   ]
  },
  {
   "cell_type": "code",
   "execution_count": 14,
   "id": "5b282b23-552c-47e6-97bc-08efed70391a",
   "metadata": {},
   "outputs": [],
   "source": [
    "#Creamos una función para numerar a las pizzas y los tamaños\n",
    "#Tamaño de las pizzas\n",
    "#Vemos cuantos tamaños hay: \n",
    "pizza_sales[\"pizza_size\"].unique()\n",
    "#Hay 5 por lo que aplicaremos la siguiente función:\n",
    "def pizza_size (size):\n",
    "    if size == \"S\":\n",
    "        return 1\n",
    "    elif size == \"M\":\n",
    "        return 2\n",
    "    elif size == \"L\":\n",
    "        return 3\n",
    "    elif size == \"XL\":\n",
    "        return 4\n",
    "    else:\n",
    "        return 5\n",
    "    "
   ]
  },
  {
   "cell_type": "code",
   "execution_count": null,
   "id": "b624b8ef-b134-4b07-8f11-6720edc70b9e",
   "metadata": {},
   "outputs": [],
   "source": [
    "#Pruebo mi función\n",
    "pizza_sales[\"size_id\"]=pizza_sales[\"pizza_size\"].apply(pizza_size)\n",
    "pizza_sales.head()"
   ]
  },
  {
   "cell_type": "code",
   "execution_count": null,
   "id": "b422810d-5286-41ec-8a6c-1681f736d046",
   "metadata": {},
   "outputs": [],
   "source": [
    "#Miro cuántos valores de nombre de pizza hay \n",
    "pizza_sales[\"pizza_name\"].unique()\n",
    "\n",
    "#Me creo un dataframe sólo con el nombre de las pizzas\n",
    "pizza_menu=pd.DataFrame(pizza_sales[\"pizza_name\"])\n",
    "pizza_menu.drop_duplicates(inplace=True)\n",
    "#Las número, creo pizza_name_id\n",
    "pizza_menu[\"pizza_name_id\"]=np.arange(1,len(pizza_menu)+1)\n",
    "pizza_menu\n",
    "\n",
    "#La añado a la tabla principal\n",
    "pizza_sales=pd.merge(pizza_sales,pizza_menu, on =\"pizza_name\", how =\"left\")\n",
    "pizza_sales\n",
    "\n",
    "    "
   ]
  },
  {
   "cell_type": "code",
   "execution_count": null,
   "id": "e6778b29-89d7-4003-b3b4-f488cdcdb91a",
   "metadata": {},
   "outputs": [],
   "source": [
    "# Creo una columna para el id de la pizza que es una combinación entre pizza_name_id y size_id\n",
    "pizza_sales[\"id_final_pizza\"]=pizza_sales[\"pizza_name_id_y\"] + pizza_sales[\"size_id\"]/10\n",
    "\n",
    "# Cast IDs and quantity as integers\n",
    "pizza_sales[\"pizza_id\"] = pizza_sales[\"pizza_id\"].apply(lambda x: int(x))\n",
    "pizza_sales[\"order_id\"] = pizza_sales[\"order_id\"].apply(lambda x: int(x))\n",
    "pizza_sales[\"quantity\"] = pizza_sales[\"quantity\"].apply(lambda x: int(x))\n",
    "\n",
    "# Cast date\n",
    "pizza_sales[\"order_date\"] = pd.to_datetime(pizza_sales[\"order_date\"], format=\"mixed\")\n",
    "\n",
    "display(pizza_sales)"
   ]
  },
  {
   "cell_type": "code",
   "execution_count": null,
   "id": "8106063f-83e6-40b5-b540-cd6a47c93a42",
   "metadata": {},
   "outputs": [],
   "source": [
    "#Creat the file pizza-orders\n",
    "pizza_orders=pd.read_csv(\"../data/raw/pizza_sales.csv\")\n",
    "# pizza_orders = pizza_sales.copy(deep=True) Por que no usamos el mismo dataframe limpio de una sola vez?\n",
    "\n",
    "# vuelvo a formatear ids...\n",
    "\n",
    "# Cast IDs and quantity as integers\n",
    "pizza_orders[\"pizza_id\"] = pizza_orders[\"pizza_id\"].apply(lambda x: int(x))\n",
    "pizza_orders[\"order_id\"] = pizza_orders[\"order_id\"].apply(lambda x: int(x))\n",
    "pizza_orders[\"quantity\"] = pizza_orders[\"quantity\"].apply(lambda x: int(x))\n",
    "\n",
    "# # Cast date --->>> USAR EN ORDERS\n",
    "# pizza_orders[\"order_date\"] = pd.to_datetime(pizza_orders[\"order_date\"], format=\"mixed\")\n",
    "\n",
    "pizza_orders.drop(\"order_date\", axis=1, inplace=True)\n",
    "pizza_orders.drop(\"order_time\", axis=1, inplace=True)\n",
    "pizza_orders.drop(\"unit_price\", axis=1, inplace=True)\n",
    "pizza_orders.drop(\"pizza_size\", axis=1, inplace=True)\n",
    "pizza_orders.drop(\"pizza_category\", axis=1, inplace=True)\n",
    "pizza_orders.drop(\"pizza_ingredients\", axis=1, inplace=True)\n",
    "pizza_orders.drop(\"pizza_name\", axis=1, inplace=True)\n",
    "\n",
    "display(pizza_orders.head(5))\n",
    "pizza_orders.to_csv('../data/clean/pizza_orders.csv', index=False)"
   ]
  },
  {
   "cell_type": "code",
   "execution_count": null,
   "id": "33180ef9-8df0-4640-a678-29611e35c9ef",
   "metadata": {},
   "outputs": [],
   "source": [
    "#Create the file pizza-info (Pizza name/Pizza Category/Pizza ingredientes)\n",
    "pizza_menu=pd.read_csv(\"../data/raw/pizza_sales.csv\")\n",
    "\n",
    "pizza_menu.drop(\"pizza_id\", axis=1, inplace=True)\n",
    "pizza_menu.drop(\"order_id\", axis=1, inplace=True)\n",
    "pizza_menu.drop(\"pizza_name_id\", axis=1, inplace=True)\n",
    "pizza_menu.drop(\"quantity\", axis=1, inplace=True)\n",
    "pizza_menu.drop(\"order_date\", axis=1, inplace=True)\n",
    "pizza_menu.drop(\"order_time\", axis=1, inplace=True)\n",
    "pizza_menu.drop(\"unit_price\", axis=1, inplace=True)\n",
    "pizza_menu.drop(\"total_price\", axis=1, inplace=True)\n",
    "pizza_menu.drop(\"pizza_size\", axis=1, inplace=True)\n",
    "pizza_menu.drop_duplicates(inplace=True)\n",
    "pizza_menu.duplicated().sum()\n",
    "display(pizza_menu)\n",
    "pizza_menu.to_csv('../data/clean/pizzas_menu.csv', index=False)"
   ]
  },
  {
   "cell_type": "code",
   "execution_count": null,
   "id": "40bfc117-64e6-407b-8b1b-e925146c0b7a",
   "metadata": {},
   "outputs": [],
   "source": []
  },
  {
   "cell_type": "code",
   "execution_count": null,
   "id": "c406c3ff-3e9e-44e9-aa20-48aa1f983d2e",
   "metadata": {},
   "outputs": [],
   "source": []
  }
 ],
 "metadata": {
  "kernelspec": {
   "display_name": ".venv",
   "language": "python",
   "name": "python3"
  },
  "language_info": {
   "codemirror_mode": {
    "name": "ipython",
    "version": 3
   },
   "file_extension": ".py",
   "mimetype": "text/x-python",
   "name": "python",
   "nbconvert_exporter": "python",
   "pygments_lexer": "ipython3",
   "version": "3.9.6"
  }
 },
 "nbformat": 4,
 "nbformat_minor": 5
}
