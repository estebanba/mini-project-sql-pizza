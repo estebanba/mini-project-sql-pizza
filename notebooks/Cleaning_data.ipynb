{
 "cells": [
  {
   "cell_type": "code",
   "execution_count": null,
   "id": "6399bc79-d934-401d-b2b3-b7ba13e48b64",
   "metadata": {},
   "outputs": [],
   "source": [
    "import pandas as pd\n",
    "import numpy as np\n",
    "import re\n",
    "import seaborn as sns\n",
    "pizza_sales=pd.read_csv(\"../data/raw/pizza_sales.csv\")\n",
    "\n",
    "pizza_sales.head(1)\n"
   ]
  },
  {
   "cell_type": "code",
   "execution_count": null,
   "id": "5b282b23-552c-47e6-97bc-08efed70391a",
   "metadata": {},
   "outputs": [],
   "source": [
    "#Creamos una función para numerar a las pizzas y los tamaños\n",
    "#Tamaño de las pizzas\n",
    "#Vemos cuantos tamaños hay: \n",
    "pizza_sales[\"pizza_size\"].unique()\n",
    "#Hay 5 por lo que aplicaremos la siguiente función:\n",
    "def pizza_size (size):\n",
    "    if size == \"S\":\n",
    "        return 1\n",
    "    elif size == \"M\":\n",
    "        return 2\n",
    "    elif size == \"L\":\n",
    "        return 3\n",
    "    elif size == \"XL\":\n",
    "        return 4\n",
    "    else:\n",
    "        return 5\n",
    "    "
   ]
  },
  {
   "cell_type": "code",
   "execution_count": null,
   "id": "b624b8ef-b134-4b07-8f11-6720edc70b9e",
   "metadata": {},
   "outputs": [],
   "source": [
    "#Pruebo mi función\n",
    "pizza_sales[\"size_id\"]=pizza_sales[\"pizza_size\"].apply(pizza_size)\n",
    "pizza_sales.head()"
   ]
  },
  {
   "cell_type": "code",
   "execution_count": null,
   "id": "b422810d-5286-41ec-8a6c-1681f736d046",
   "metadata": {},
   "outputs": [],
   "source": [
    "#Miro cuántos valores de nombre de pizza hay \n",
    "pizza_sales[\"pizza_name\"].unique()\n",
    "\n",
    "#Me creo un dataframe sólo con el nombre de las pizzas\n",
    "pizza_menu=pd.DataFrame(pizza_sales[\"pizza_name\"])\n",
    "pizza_menu.drop_duplicates(inplace=True)\n",
    "#Las número, creo pizza_name_id\n",
    "pizza_menu[\"pizza_name_id\"]=np.arange(1,len(pizza_menu)+1)\n",
    "pizza_menu\n",
    "\n",
    "#La añado a la tabla principal\n",
    "pizza_sales=pd.merge(pizza_sales,pizza_menu, on =\"pizza_name\", how =\"left\")\n",
    "pizza_sales.head()\n",
    "\n",
    "    "
   ]
  },
  {
   "cell_type": "code",
   "execution_count": null,
   "id": "e6778b29-89d7-4003-b3b4-f488cdcdb91a",
   "metadata": {},
   "outputs": [],
   "source": [
    "# Creo una columna para el id de la pizza que es una combinación entre pizza_name_id y size_id\n",
    "pizza_sales[\"id_final_pizza\"]=pizza_sales[\"pizza_name_id_y\"] + pizza_sales[\"size_id\"]/10\n",
    "\n",
    "# Cast IDs and quantity as integers\n",
    "pizza_sales[\"pizza_id\"] = pizza_sales[\"pizza_id\"].apply(lambda x: int(x))\n",
    "pizza_sales[\"order_id\"] = pizza_sales[\"order_id\"].apply(lambda x: int(x))\n",
    "pizza_sales[\"quantity\"] = pizza_sales[\"quantity\"].apply(lambda x: int(x))\n",
    "\n",
    "# Cast date\n",
    "pizza_sales[\"order_date\"] = pd.to_datetime(pizza_sales[\"order_date\"], format=\"mixed\")\n",
    "\n",
    "#Cast time\n",
    "pizza_sales[\"order_time\"] = pd.to_datetime(pizza_sales[\"order_time\"], format='%H:%M:%S').dt.time\n",
    "\n",
    "display(pizza_sales)"
   ]
  },
  {
   "cell_type": "code",
   "execution_count": null,
   "id": "40bfc117-64e6-407b-8b1b-e925146c0b7a",
   "metadata": {},
   "outputs": [],
   "source": [
    "#Creo el csv orders\n",
    "#Creo la base de la tabla order y quito los duplicados\n",
    "orders=pizza_sales[[\"order_id\",\"order_date\", \"order_time\",]]\n",
    "orders=orders.drop_duplicates()\n",
    "orders = orders.reset_index(drop=True)\n",
    "\n",
    "#Creo un dataframe con el número de pedido y el sumatorio del total del order_id\n",
    "\n",
    "sum_order=(pizza_sales[[\"order_id\",\"total_price\"]]).groupby(\"order_id\", as_index=False)[\"total_price\"].sum()\n",
    "\n",
    "\n",
    "#Hago merge con la otra tabla base\n",
    "\n",
    "orders= pd.merge(orders, sum_order, on =\"order_id\", how=\"left\")\n",
    "orders\n",
    "\n",
    "#Guardo el fichero\n",
    "orders.to_csv('../data/clean/orders.csv', index=False)"
   ]
  },
  {
   "cell_type": "code",
   "execution_count": null,
   "id": "5f354d99-231b-463f-a6c3-bfee6efdda71",
   "metadata": {},
   "outputs": [],
   "source": [
    "#Creo el csv pizza_orders sería la refería a las sales total\n",
    "pizza_orders=pizza_sales[[\"pizza_id\",\"order_id\", \"id_final_pizza\",\"quantity\"]]\n",
    "pizza_orders\n",
    "pizza_orders.to_csv('../data/clean/pizza_orders.csv', index=False)"
   ]
  },
  {
   "cell_type": "code",
   "execution_count": null,
   "id": "c406c3ff-3e9e-44e9-aa20-48aa1f983d2e",
   "metadata": {},
   "outputs": [],
   "source": [
    "#Creo el csv pizzas_menu que sólo tiene información del tipo de pizza, los ingredientes y la categoría\n",
    "pizzas_menu=pizza_sales[[\"pizza_name_id_y\",\"pizza_name\",\"pizza_category\",\"pizza_ingredients\"]]\n",
    "pizzas_menu.drop_duplicates(inplace=True)\n",
    "pizzas_menu=pizzas_menu.reset_index(drop=True)\n",
    "pizzas_menu\n",
    "pizzas_menu.to_csv('../data/clean/pizzas_menu.csv', index=False)"
   ]
  },
  {
   "cell_type": "code",
   "execution_count": null,
   "id": "bfad3b53-b9ae-4ffa-a000-b5694c896800",
   "metadata": {},
   "outputs": [],
   "source": [
    "#Creamos el csv pizza_info\n",
    "pizza_info=pizza_sales[[\"id_final_pizza\",\"pizza_name\",\"size_id\",\"unit_price\",\"pizza_name_id_y\"]]\n",
    "pizza_info.drop_duplicates(inplace=True)\n",
    "pizza_info\n",
    "pizza_info.to_csv('../data/clean/pizza_info.csv', index=False)"
   ]
  },
  {
   "cell_type": "code",
   "execution_count": null,
   "id": "f57c8cd9-480a-4878-a364-7fba4bd44fda",
   "metadata": {},
   "outputs": [],
   "source": [
    "#Creamos la tabla size\n",
    "sizes=pizza_sales[[\"size_id\",\"pizza_size\"]]\n",
    "sizes.drop_duplicates(inplace=True)\n",
    "sizes\n",
    "sizes.to_csv('../data/clean/sizes.csv', index=False)"
   ]
  },
  {
   "cell_type": "code",
   "execution_count": null,
   "id": "e7f81650-21bc-45de-ab9f-431c379b1147",
   "metadata": {},
   "outputs": [],
   "source": [
    "pizza_sales.dtypes"
   ]
  },
  {
   "cell_type": "code",
   "execution_count": null,
   "id": "c7280721-484a-40fe-8c0c-438d29531f44",
   "metadata": {},
   "outputs": [],
   "source": []
  }
 ],
 "metadata": {
  "kernelspec": {
   "display_name": ".venv",
   "language": "python",
   "name": ".venv"
  },
  "language_info": {
   "codemirror_mode": {
    "name": "ipython",
    "version": 3
   },
   "file_extension": ".py",
   "mimetype": "text/x-python",
   "name": "python",
   "nbconvert_exporter": "python",
   "pygments_lexer": "ipython3",
   "version": "3.13.1"
  }
 },
 "nbformat": 4,
 "nbformat_minor": 5
}
